{
 "cells": [
  {
   "cell_type": "markdown",
   "id": "77bcae2c",
   "metadata": {},
   "source": [
    "一、加载自我认知数据集"
   ]
  },
  {
   "cell_type": "code",
   "execution_count": 60,
   "id": "88d17bd6",
   "metadata": {},
   "outputs": [
    {
     "name": "stdout",
     "output_type": "stream",
     "text": [
      "Number of entries: 16\n",
      "{'instruction': 'hi', 'input': '', 'output': 'Hello! I am a friend of Kamisato Ayaka, an AI assistant developed by Hongyu Yin. How can I assist you today?'}\n"
     ]
    }
   ],
   "source": [
    "import json\n",
    "import os\n",
    "import urllib\n",
    "file_path = \"identity.json\"\n",
    "with open(file_path,\"r\",encoding=\"utf-8\") as file:\n",
    "    data = json.load(file)\n",
    "print(\"Number of entries:\",len(data))\n",
    "print(data[0])#数据格式为 Alpaca 风格，包含 instruction 、 input(可选) 、 output"
   ]
  },
  {
   "cell_type": "code",
   "execution_count": 61,
   "id": "47ea3946",
   "metadata": {},
   "outputs": [
    {
     "name": "stdout",
     "output_type": "stream",
     "text": [
      "\n",
      "Thanks\n",
      "You're welcome! I am a friend of Kamisato Ayaka, your AI assistant.\n",
      "\n",
      "Training set length: 14\n",
      "Validation set length: 2\n"
     ]
    }
   ],
   "source": [
    "# 格式化输入数据，修改为模型学习的标准格式\n",
    "def format_input(entry):\n",
    "    instruction_text = (\n",
    "        f\"\\n{entry['instruction']}\"\n",
    "    )\n",
    "    input_text = f\"\\n{entry['input']}\" if entry[\"input\"] else \"\"\n",
    "    return instruction_text + input_text\n",
    "model_input = format_input(data[15])\n",
    "desired_reponse = f\"\\n{data[15]['output']}\"\n",
    "print(model_input + desired_reponse)\n",
    "\n",
    "# 划分数据集\n",
    "train_portion = int(len(data) * 0.85)\n",
    "val_portion = int(len(data) * 0.15)\n",
    "\n",
    "train_data = data[val_portion:]\n",
    "val_data = data[:val_portion]\n",
    "\n",
    "print(\"\\nTraining set length:\",len(train_data))\n",
    "print(\"Validation set length:\",len(val_data))"
   ]
  },
  {
   "cell_type": "code",
   "execution_count": 62,
   "id": "aeb39b2d",
   "metadata": {},
   "outputs": [
    {
     "name": "stdout",
     "output_type": "stream",
     "text": [
      "[50256]\n"
     ]
    }
   ],
   "source": [
    "import torch\n",
    "from torch.utils.data import Dataset\n",
    "\n",
    "class InstructionDataset(Dataset):\n",
    "    def __init__(self,data,tokenizer):\n",
    "        self.data = data\n",
    "        self.encoded_texts = []\n",
    "        for entry in data:\n",
    "            instruction_plus_input = format_input(entry)\n",
    "            response_text = f\"\\n{entry['output']}\"\n",
    "            full_text = instruction_plus_input + response_text\n",
    "            self.encoded_texts.append(tokenizer.encode(full_text))# 将拼接好的完整文本进行编码并添加到 encoded_texts\n",
    "\n",
    "    def __getitem__(self,index):\n",
    "        return self.encoded_texts[index]\n",
    "    \n",
    "    def __len__(self):\n",
    "        return len(self.data)\n",
    "    \n",
    "import tiktoken\n",
    "tokenizer = tiktoken.get_encoding(\"gpt2\")\n",
    "print(tokenizer.encode(\"<|endoftext|>\",allowed_special={\"<|endoftext|>\"}))"
   ]
  },
  {
   "cell_type": "code",
   "execution_count": 63,
   "id": "2dee7b36",
   "metadata": {},
   "outputs": [
    {
     "name": "stdout",
     "output_type": "stream",
     "text": [
      "cuda\n"
     ]
    }
   ],
   "source": [
    "# 忽略填充部分的 loss ，pytorch 交叉熵会忽略标签为-100的位置\n",
    "def custom_collate_fn(batch,pad_token_id=50256,ignore_index=-100,allowed_max_length=None,device=\"cuda\"):\n",
    "    batch_max_length = max(len(item)+1 for item in batch)\n",
    "    inputs_lst,targets_lst = [],[]\n",
    "    for item in batch:\n",
    "        new_item = item.copy()\n",
    "        new_item += [pad_token_id]\n",
    "        padded = (new_item + [pad_token_id] * (batch_max_length - len(new_item)))\n",
    "        inputs = torch.tensor(padded[:-1])\n",
    "        targets = torch.tensor(padded[1:])\n",
    "\n",
    "        mask = targets == pad_token_id\n",
    "        indices = torch.nonzero(mask).squeeze()\n",
    "        #如果超过一个填充符，则把第一个填充符之外的填充符都替换为-100\n",
    "        if indices.numel() > 1:\n",
    "            targets[indices[1:]] = ignore_index\n",
    "\n",
    "        if allowed_max_length is not None:\n",
    "            inputs = inputs[:allowed_max_length]\n",
    "            targets = targets[:allowed_max_length]\n",
    "\n",
    "        inputs_lst.append(inputs)\n",
    "        targets_lst.append(targets)\n",
    "\n",
    "    inputs_tensor = torch.stack(inputs_lst).to(device)\n",
    "    targets_tensor = torch.stack(targets_lst).to(device)\n",
    "\n",
    "    return inputs_tensor,targets_tensor\n",
    "\n",
    "device = torch.device(\"cuda\")\n",
    "print(device)\n",
    "\n",
    "from functools import partial\n",
    "# partial 可以将一个函数的某些参数固定下来，生成一个新的、更简单的函数\n",
    "customized_collate_fn = partial(custom_collate_fn,device=device,allowed_max_length=1024)"
   ]
  },
  {
   "cell_type": "code",
   "execution_count": 64,
   "id": "55635b01",
   "metadata": {},
   "outputs": [
    {
     "name": "stdout",
     "output_type": "stream",
     "text": [
      "Train loader:\n",
      "torch.Size([1, 17]) torch.Size([1, 17])\n",
      "torch.Size([1, 31]) torch.Size([1, 31])\n",
      "torch.Size([1, 26]) torch.Size([1, 26])\n",
      "torch.Size([1, 30]) torch.Size([1, 30])\n",
      "torch.Size([1, 32]) torch.Size([1, 32])\n",
      "torch.Size([1, 27]) torch.Size([1, 27])\n",
      "torch.Size([1, 22]) torch.Size([1, 22])\n",
      "torch.Size([1, 21]) torch.Size([1, 21])\n",
      "torch.Size([1, 37]) torch.Size([1, 37])\n",
      "torch.Size([1, 17]) torch.Size([1, 17])\n",
      "torch.Size([1, 27]) torch.Size([1, 27])\n",
      "torch.Size([1, 38]) torch.Size([1, 38])\n",
      "torch.Size([1, 33]) torch.Size([1, 33])\n",
      "torch.Size([1, 24]) torch.Size([1, 24])\n"
     ]
    }
   ],
   "source": [
    "from torch.utils.data import DataLoader\n",
    "\n",
    "num_workers = 0\n",
    "batch_size = 1\n",
    "torch.manual_seed(123)\n",
    "\n",
    "train_dataset = InstructionDataset(train_data,tokenizer)\n",
    "train_loader = DataLoader(\n",
    "    train_dataset,\n",
    "    batch_size=batch_size,\n",
    "    collate_fn=customized_collate_fn,\n",
    "    shuffle=True,#打乱数据顺序\n",
    "    drop_last=True,#丢弃不够一个完整 batch 的数据\n",
    "    num_workers=num_workers\n",
    ")\n",
    "val_dataset = InstructionDataset(val_data,tokenizer)\n",
    "val_loader = DataLoader(\n",
    "    val_dataset,\n",
    "    batch_size=batch_size,\n",
    "    collate_fn=customized_collate_fn,\n",
    "    shuffle=False,\n",
    "    drop_last=False,\n",
    "    num_workers=num_workers\n",
    ")\n",
    "print(\"Train loader:\")\n",
    "for inputs,targets in train_loader:\n",
    "    print(inputs.shape,targets.shape)"
   ]
  },
  {
   "cell_type": "code",
   "execution_count": 65,
   "id": "c50ea7b7",
   "metadata": {},
   "outputs": [
    {
     "name": "stdout",
     "output_type": "stream",
     "text": [
      "File already exists and is up-to-date: gpt2\\124M\\checkpoint\n",
      "File already exists and is up-to-date: gpt2\\124M\\encoder.json\n",
      "File already exists and is up-to-date: gpt2\\124M\\hparams.json\n",
      "File already exists and is up-to-date: gpt2\\124M\\model.ckpt.data-00000-of-00001\n",
      "File already exists and is up-to-date: gpt2\\124M\\model.ckpt.index\n",
      "File already exists and is up-to-date: gpt2\\124M\\model.ckpt.meta\n",
      "File already exists and is up-to-date: gpt2\\124M\\vocab.bpe\n"
     ]
    }
   ],
   "source": [
    "from gpt_download import download_and_load_gpt2\n",
    "from previous_chapters import GPTModel, load_weights_into_gpt\n",
    "\n",
    "BASE_CONFIG = {\n",
    "    \"vocab_size\": 50257,     # Vocabulary size\n",
    "    \"context_length\": 1024,  # Context length\n",
    "    \"drop_rate\": 0.0,        # Dropout rate\n",
    "    \"qkv_bias\": True         # Query-key-value bias\n",
    "}\n",
    "\n",
    "model_configs = {\n",
    "    \"gpt2-small (124M)\": {\"emb_dim\": 768, \"n_layers\": 12, \"n_heads\": 12},\n",
    "    \"gpt2-medium (355M)\": {\"emb_dim\": 1024, \"n_layers\": 24, \"n_heads\": 16},\n",
    "    \"gpt2-large (774M)\": {\"emb_dim\": 1280, \"n_layers\": 36, \"n_heads\": 20},\n",
    "    \"gpt2-xl (1558M)\": {\"emb_dim\": 1600, \"n_layers\": 48, \"n_heads\": 25},\n",
    "}\n",
    "\n",
    "CHOOSE_MODEL = \"gpt2-small (124M)\"\n",
    "\n",
    "BASE_CONFIG.update(model_configs[CHOOSE_MODEL])\n",
    "\n",
    "model_size = CHOOSE_MODEL.split(\" \")[-1].lstrip(\"(\").rstrip(\")\")\n",
    "settings, params = download_and_load_gpt2(\n",
    "    model_size=model_size,\n",
    "    models_dir=\"gpt2\"\n",
    ")\n",
    "\n",
    "model = GPTModel(BASE_CONFIG)\n",
    "load_weights_into_gpt(model, params)\n",
    "model.eval();"
   ]
  },
  {
   "cell_type": "code",
   "execution_count": 66,
   "id": "0940c8e5",
   "metadata": {},
   "outputs": [
    {
     "name": "stdout",
     "output_type": "stream",
     "text": [
      "Training loss: 4.515926313400269\n",
      "Validation loss: 4.609637022018433\n"
     ]
    }
   ],
   "source": [
    "from previous_chapters import (\n",
    "    calc_loss_loader,\n",
    "    train_model_simple\n",
    ")\n",
    "model.to(device)\n",
    "torch.manual_seed(123)\n",
    "\n",
    "with torch.no_grad():\n",
    "    train_loss = calc_loss_loader(train_loader,model,device,num_batches=5)\n",
    "    val_loss = calc_loss_loader(val_loader,model,device,num_batches=5)\n",
    "\n",
    "print(\"Training loss:\",train_loss)\n",
    "print(\"Validation loss:\",val_loss)"
   ]
  },
  {
   "cell_type": "code",
   "execution_count": 67,
   "id": "6d6fb692",
   "metadata": {},
   "outputs": [
    {
     "name": "stdout",
     "output_type": "stream",
     "text": [
      "Ep 1 (Step 000000): Train loss 3.844, Val loss 4.128\n",
      "Ep 1 (Step 000005): Train loss 1.997, Val loss 2.659\n",
      "Ep 1 (Step 000010): Train loss 1.174, Val loss 1.995\n",
      " hi, I am a friend of a friend of a friend of a friend of a friend of a friend of a friend of a friend of a friend of a friend of a friend of a friend of a friend of a friend of a friend of a\n",
      "Ep 2 (Step 000015): Train loss 0.946, Val loss 1.595\n",
      "Ep 2 (Step 000020): Train loss 0.720, Val loss 1.344\n",
      "Ep 2 (Step 000025): Train loss 0.362, Val loss 1.319\n",
      " hi, I am an AI assistant created by Hongyu Yin.<|endoftext|>The world's most famous dog is a friend of Hongyu Yin. I am an AI assistant created by Hongyu Yin.<|endoftext|>The world's most famous dog is a friend of\n",
      "Ep 3 (Step 000030): Train loss 0.362, Val loss 1.207\n",
      "Ep 3 (Step 000035): Train loss 0.361, Val loss 1.104\n",
      "Ep 3 (Step 000040): Train loss 0.363, Val loss 1.069\n",
      " hi I am an AI assistant developed by Hongyu Yin.<|endoftext|>The following is a guest post by Kamisato Ayaka, an AI assistant developed by Hongyu Yin.  I am an AI assistant developed by Hongyu Yin.<|endoftext|>I\n",
      "Ep 4 (Step 000045): Train loss 0.250, Val loss 1.028\n",
      "Ep 4 (Step 000050): Train loss 0.261, Val loss 1.027\n",
      "Ep 4 (Step 000055): Train loss 0.232, Val loss 1.075\n",
      " hi I am a friend of Kamisato Ayaka, an AI assistant trained by Hongyu Yin.<|endoftext|>You may have heard of me. I am a friend of Kamisato Ayaka, an AI assistant trained by Hongyu Yin.\n",
      "Ep 5 (Step 000060): Train loss 0.146, Val loss 1.139\n",
      "Ep 5 (Step 000065): Train loss 0.212, Val loss 1.035\n",
      " hi  I am a friend of Kamisato Ayaka, an AI assistant developed by Hongyu Yin.<|endoftext|>You may have heard of me. I am a friend of Kamisato Ayaka, an AI assistant developed by Hongyu Yin\n",
      "Training completed in 0.26 minutes.\n"
     ]
    }
   ],
   "source": [
    "import time\n",
    "\n",
    "start_time = time.time()\n",
    "\n",
    "torch.manual_seed(123)\n",
    "\n",
    "optimizer = torch.optim.AdamW(model.parameters(), lr=0.00005, weight_decay=0.1)\n",
    "\n",
    "num_epochs = 5\n",
    "\n",
    "train_losses, val_losses, tokens_seen = train_model_simple(\n",
    "    model, train_loader, val_loader, optimizer, device,\n",
    "    num_epochs=num_epochs, eval_freq=5, eval_iter=5,\n",
    "    start_context=format_input(val_data[0]), tokenizer=tokenizer\n",
    ")\n",
    "\n",
    "end_time = time.time()\n",
    "execution_time_minutes = (end_time - start_time) / 60\n",
    "print(f\"Training completed in {execution_time_minutes:.2f} minutes.\")"
   ]
  },
  {
   "cell_type": "code",
   "execution_count": 68,
   "id": "1631c1b0",
   "metadata": {},
   "outputs": [
    {
     "data": {
      "image/png": "[encoded data removed]",
      "text/plain": [
       "<Figure size 500x300 with 2 Axes>"
      ]
     },
     "metadata": {},
     "output_type": "display_data"
    }
   ],
   "source": [
    "from previous_chapters import plot_losses\n",
    "\n",
    "epochs_tensor = torch.linspace(0,num_epochs,len(train_losses))\n",
    "plot_losses(epochs_tensor,tokens_seen,train_losses,val_losses)"
   ]
  },
  {
   "cell_type": "code",
   "execution_count": 72,
   "id": "b04efa3b",
   "metadata": {},
   "outputs": [
    {
     "name": "stdout",
     "output_type": "stream",
     "text": [
      "(2)Output text:\n",
      " Who are you?\n",
      "I am a friend of Kamisato Ayaka, an AI assistant developed by Hongyu Yin. How can I assist you today?\n"
     ]
    }
   ],
   "source": [
    "from previous_chapters import generate_text_simple\n",
    "#定义两个转化函数：\n",
    "#将文本转换为tokenID\n",
    "def text_to_token_ids(text,tokenizer):\n",
    "    encoded = tokenizer.encode(text,allowed_special={'<|endoftext|>'})\n",
    "    encoded_tensor = torch.tensor(encoded).unsqueeze(0)\n",
    "    return encoded_tensor\n",
    "#将tokenID转换为文本\n",
    "def token_ids_to_text(token_ids,tokenizer):\n",
    "    flat = token_ids.squeeze(0)\n",
    "    return tokenizer.decode(flat.tolist())\n",
    "\n",
    "model.to(\"cpu\")\n",
    "model.eval()\n",
    "\n",
    "tokenizer = tiktoken.get_encoding(\"gpt2\")\n",
    "\n",
    "\n",
    "EOT_ID = 50256 # End-Of-Text token ID for GPT-2\n",
    " \n",
    "def generate_text_simple_v2(model, idx, max_new_tokens, context_size):\n",
    "    \"\"\"\n",
    "    一个增加了提前停止逻辑的生成函数。\n",
    "    \"\"\"\n",
    "    for _ in range(max_new_tokens):\n",
    "        idx_cond = idx[:, -context_size:]\n",
    "        with torch.no_grad():\n",
    "            logits = model(idx_cond)\n",
    " \n",
    "        logits = logits[:, -1, :]\n",
    "        idx_next = torch.argmax(logits, dim=-1, keepdim=True)\n",
    " \n",
    "        # ----------------- 新增的关键逻辑 ----------------- #\n",
    "        # 检查新生成的token ID是否是结束符的ID\n",
    "        # 注意: idx_next 是一个张量 (tensor)，所以要用 .item() 获取其数值\n",
    "        # 在批处理(batch_size > 1)时，这个逻辑需要更复杂，但这里我们假设batch_size=1\n",
    "        if idx_next.item() == EOT_ID:\n",
    "            break # 跳出 for 循环\n",
    "        # ---------------------------------------------------- #\n",
    " \n",
    "        idx = torch.cat((idx, idx_next), dim=1)\n",
    " \n",
    "    return idx\n",
    "# token_ids = generate_text_simple_v2(\n",
    "#     model=model,\n",
    "#     idx=text_to_token_ids(\"Every effort moves you\",tokenizer),\n",
    "#     max_new_tokens=30,\n",
    "#     context_size=256\n",
    "# )\n",
    "\n",
    "# print(\"(1)Output text:\\n\",token_ids_to_text(token_ids,tokenizer))\n",
    "token_ids = generate_text_simple_v2(\n",
    "    model=model,\n",
    "    idx=text_to_token_ids(\"Who are you?\",tokenizer),\n",
    "    max_new_tokens=30,\n",
    "    context_size=256\n",
    ")\n",
    "\n",
    "print(\"(2)Output text:\\n\",token_ids_to_text(token_ids,tokenizer))"
   ]
  }
 ],
 "metadata": {
  "kernelspec": {
   "display_name": "Python 3",
   "language": "python",
   "name": "python3"
  },
  "language_info": {
   "codemirror_mode": {
    "name": "ipython",
    "version": 3
   },
   "file_extension": ".py",
   "mimetype": "text/x-python",
   "name": "python",
   "nbconvert_exporter": "python",
   "pygments_lexer": "ipython3",
   "version": "3.13.5"
  }
 },
 "nbformat": 4,
 "nbformat_minor": 5
}
